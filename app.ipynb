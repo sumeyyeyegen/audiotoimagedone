{
 "cells": [
  {
   "cell_type": "code",
   "execution_count": 1,
   "id": "eeb8bbb1",
   "metadata": {},
   "outputs": [],
   "source": [
    "!pip install -q gradio\n",
    "!pip install -q openai"
   ]
  },
  {
   "cell_type": "code",
   "execution_count": 2,
   "id": "23b771ee",
   "metadata": {},
   "outputs": [],
   "source": [
    "import gradio as gr\n",
    "import openai\n",
    "import json"
   ]
  },
  {
   "cell_type": "code",
   "execution_count": 3,
   "id": "0f7bac58",
   "metadata": {},
   "outputs": [],
   "source": [
    "with open( 'GPT_SECRET_KEY.json') as f:\n",
    "    data = json.load(f)"
   ]
  },
  {
   "cell_type": "code",
   "execution_count": 4,
   "id": "d61c676f",
   "metadata": {},
   "outputs": [],
   "source": [
    "openai.api_key = data[\"API_KEY\"]"
   ]
  },
  {
   "cell_type": "code",
   "execution_count": 5,
   "id": "a57d0664",
   "metadata": {},
   "outputs": [],
   "source": [
    "def chatgpt_api(input_text):\n",
    "    messages=[\n",
    "        {\"role\":\"system\",\n",
    "        \"content\":\"You are a helpfful assistant.\"}\n",
    "    ]\n",
    "    \n",
    "    if input_text:\n",
    "        messages.append(\n",
    "            {\"role\":\"user\",\n",
    "            \"content\":'Summarize this text \"{}\" into a short and concise Dall-e2 prompt'.format(input_text)\n",
    "            }\n",
    "        )\n",
    "        \n",
    "        chat_completion = openai.ChatCompletion.create(\n",
    "            model=\"gpt-3.5-turbo\", messages=messages\n",
    "        )\n",
    "    \n",
    "    reply = chat_completion.choices[0].message.content\n",
    "    return reply"
   ]
  },
  {
   "cell_type": "code",
   "execution_count": 6,
   "id": "b5b85ef3",
   "metadata": {},
   "outputs": [],
   "source": [
    "def dall_e_api(dalle_prompt):\n",
    "\n",
    "    dalle_response = openai.Image.create(\n",
    "            prompt = dalle_prompt,\n",
    "            size=\"512x512\"\n",
    "        )\n",
    "    image_url = dalle_response['data'][0]['url']\n",
    "    return image_url"
   ]
  },
  {
   "cell_type": "code",
   "execution_count": 7,
   "id": "02ce6b66",
   "metadata": {},
   "outputs": [],
   "source": [
    "def whisper_transcribe(audio):\n",
    "    \n",
    "    audio_file = open(audio, \"rb\")\n",
    "    transcript = openai.Audio.transcribe(\"whisper-1\", audio_file)\n",
    "    dalle_prompt = chatgpt_api(transcript[\"text\"])\n",
    "    image_url = dall_e_api(dalle_prompt)\n",
    "    return transcript[\"text\"], image_url"
   ]
  },
  {
   "cell_type": "code",
   "execution_count": 8,
   "id": "ced3bcf9",
   "metadata": {},
   "outputs": [],
   "source": [
    "output_1 = gr.Textbox(label=\"Speech to Text\")\n",
    "output_2 = gr.Image(label=\"DALL-E Image\")"
   ]
  },
  {
   "cell_type": "code",
   "execution_count": null,
   "id": "08bd45d9",
   "metadata": {},
   "outputs": [
    {
     "name": "stdout",
     "output_type": "stream",
     "text": [
      "Running on local URL:  http://127.0.0.1:7860\n",
      "\n",
      "To create a public link, set `share=True` in `launch()`.\n"
     ]
    },
    {
     "data": {
      "text/html": [
       "<div><iframe src=\"http://127.0.0.1:7860/\" width=\"100%\" height=\"500\" allow=\"autoplay; camera; microphone; clipboard-read; clipboard-write;\" frameborder=\"0\" allowfullscreen></iframe></div>"
      ],
      "text/plain": [
       "<IPython.core.display.HTML object>"
      ]
     },
     "metadata": {},
     "output_type": "display_data"
    },
    {
     "name": "stderr",
     "output_type": "stream",
     "text": [
      "C:\\Users\\LENOVO\\anaconda3\\lib\\site-packages\\gradio\\processing_utils.py:242: UserWarning: Trying to convert audio automatically from int32 to 16-bit int format.\n",
      "  warnings.warn(warning.format(data.dtype))\n"
     ]
    }
   ],
   "source": [
    "speech_interface = gr.Interface(fn = whisper_transcribe, \n",
    "                                inputs = gr.Audio(source=\"microphone\", type=\"filepath\"), \n",
    "                                outputs = [output_1, output_2], \n",
    "                                title = \"Generate Images using Voice\")\n",
    "\n",
    "speech_interface.launch(debug=True)"
   ]
  }
 ],
 "metadata": {
  "kernelspec": {
   "display_name": "Python 3 (ipykernel)",
   "language": "python",
   "name": "python3"
  },
  "language_info": {
   "codemirror_mode": {
    "name": "ipython",
    "version": 3
   },
   "file_extension": ".py",
   "mimetype": "text/x-python",
   "name": "python",
   "nbconvert_exporter": "python",
   "pygments_lexer": "ipython3",
   "version": "3.9.13"
  }
 },
 "nbformat": 4,
 "nbformat_minor": 5
}
